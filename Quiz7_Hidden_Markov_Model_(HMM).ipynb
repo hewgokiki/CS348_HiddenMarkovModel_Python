{
  "cells": [
    {
      "cell_type": "markdown",
      "metadata": {
        "id": "zpwH9SpUW3AM"
      },
      "source": [
        "# Hidden Markov Model (HMM)"
      ]
    },
    {
      "cell_type": "markdown",
      "metadata": {
        "id": "l94xhVJc0_Nl"
      },
      "source": [
        "### Data Generation"
      ]
    },
    {
      "cell_type": "code",
      "execution_count": 1,
      "metadata": {
        "id": "d7pL4hHlwsxB"
      },
      "outputs": [],
      "source": [
        "# Gendata\n",
        "import random as rd\n",
        "\n",
        "n_hidden_states = 50\n",
        "n_observations = 50\n",
        "\n",
        "weathers = [\"S\", \"N\", \"R\"]\n",
        "observation = [\"H\", \"G\"]\n",
        "\n",
        "gen_hidden_states = [weathers[rd.randint(0, 2)] for i in range(n_hidden_states)]\n",
        "gen_observations =  [observation[rd.randint(0, 1)] for i in range(n_observations)]"
      ]
    },
    {
      "cell_type": "markdown",
      "metadata": {
        "id": "M37kbnbG00u-"
      },
      "source": [
        "### Config hiden and observation values"
      ]
    },
    {
      "cell_type": "code",
      "execution_count": 2,
      "metadata": {
        "id": "0wJHAQ3x0lm9"
      },
      "outputs": [],
      "source": [
        "hidden =      ['R', 'R', 'N', 'N', 'R', 'N', 'R', 'S', 'S', 'S', 'R', 'S', 'N', 'R', 'R', 'R', 'R', 'S', 'R', 'N', 'S', 'S', 'S', 'N', 'S', 'R', 'S', 'R', 'N', 'S', 'R', 'S', 'R', 'R', 'N', 'N', 'R', 'N', 'N', 'S', 'R', 'N', 'R', 'R', 'S', 'R', 'R', 'S', 'R', 'N']"
      ]
    },
    {
      "cell_type": "code",
      "execution_count": 4,
      "metadata": {
        "id": "UinVuP7_0BL_"
      },
      "outputs": [],
      "source": [
        "observation = ['G', 'H', 'G', 'G', 'G', 'G', 'H', 'H', 'G', 'H', 'G', 'H', 'G', 'H', 'H', 'H', 'G', 'G', 'G', 'G', 'H', 'G', 'G', 'G', 'H', 'G', 'H', 'G', 'H', 'G', 'H', 'H', 'H', 'H', 'G', 'G', 'H', 'G', 'G', 'G', 'H', 'H', 'H', 'G', 'G', 'G', 'H', 'H', 'H', 'H']"
      ]
    },
    {
      "cell_type": "markdown",
      "metadata": {
        "id": "GG7bN_p8vJqA"
      },
      "source": [
        "Not fixed (use values from Data Generator)"
      ]
    },
    {
      "cell_type": "code",
      "execution_count": 5,
      "metadata": {
        "id": "UX9J5z0oulAR"
      },
      "outputs": [],
      "source": [
        "hidden = gen_hidden_states\n",
        "observation = gen_observations"
      ]
    },
    {
      "cell_type": "markdown",
      "metadata": {
        "id": "nCNjsUTF8EMm"
      },
      "source": [
        "### Transition Probability"
      ]
    },
    {
      "cell_type": "code",
      "execution_count": 9,
      "metadata": {
        "colab": {
          "base_uri": "https://localhost:8080/"
        },
        "id": "_tye79OG7ig0",
        "outputId": "389704c3-277e-4244-91f8-63ba45d03499"
      },
      "outputs": [
        {
          "name": "stdout",
          "output_type": "stream",
          "text": [
            "count sunny to sunny =  3\n",
            "count sunny to normal =  4\n",
            "count sunny to rainy =  5\n",
            "count sunny to other =  12\n"
          ]
        }
      ],
      "source": [
        "stos=0;\n",
        "for i in range(len(hidden)-1):\n",
        "  if hidden[i] == 'S':\n",
        "    if hidden[i] == hidden[i+1]:\n",
        "      stos=stos+1\n",
        "\n",
        "ston=0;\n",
        "for i in range(len(hidden)-1):\n",
        "  if hidden[i] == 'S':\n",
        "    if hidden[i+1] == 'N':\n",
        "      ston=ston+1\n",
        "\n",
        "stor=0;\n",
        "for i in range(len(hidden)-1):\n",
        "  if hidden[i] == 'S':\n",
        "    if hidden[i+1] == 'R':\n",
        "      stor=stor+1\n",
        "\n",
        "stoother=0;\n",
        "for i in range(len(hidden)-1):\n",
        "  if hidden[i] == 'S':\n",
        "      stoother=stoother+1\n",
        "\n",
        "print(\"count sunny to sunny = \",stos)\n",
        "print(\"count sunny to normal = \",ston)\n",
        "print(\"count sunny to rainy = \",stor)\n",
        "print(\"count sunny to other = \",stoother)"
      ]
    },
    {
      "cell_type": "code",
      "execution_count": 6,
      "metadata": {
        "colab": {
          "base_uri": "https://localhost:8080/"
        },
        "id": "pzLPI62A_7Kv",
        "outputId": "a8110588-dbe0-4f2d-d866-231b3a40cdae"
      },
      "outputs": [
        {
          "name": "stdout",
          "output_type": "stream",
          "text": [
            "count normal to sunny =  7\n",
            "count normal to normal =  8\n",
            "count normal to rainy =  3\n",
            "count normal to other =  18\n"
          ]
        }
      ],
      "source": [
        "ntos=0;\n",
        "for i in range(len(hidden)-1):\n",
        "  if hidden[i] == 'N':\n",
        "    if hidden[i+1] == 'S':\n",
        "      ntos=ntos+1 \n",
        "\n",
        "nton=0;\n",
        "for i in range(len(hidden)-1):\n",
        "  if hidden[i] == 'N':\n",
        "    if hidden[i] == hidden[i+1]:\n",
        "      nton=nton+1\n",
        "\n",
        "ntor=0;\n",
        "for i in range(len(hidden)-1):\n",
        "  if hidden[i] == 'N':\n",
        "    if hidden[i+1] == 'R':\n",
        "      ntor=ntor+1\n",
        "\n",
        "ntoother=0;\n",
        "for i in range(len(hidden)-1):\n",
        "  if hidden[i] == 'N':\n",
        "      ntoother=ntoother+1\n",
        "\n",
        "print(\"count normal to sunny = \",ntos)\n",
        "print(\"count normal to normal = \",nton)\n",
        "print(\"count normal to rainy = \",ntor)\n",
        "print(\"count normal to other = \",ntoother)"
      ]
    },
    {
      "cell_type": "code",
      "execution_count": 7,
      "metadata": {
        "colab": {
          "base_uri": "https://localhost:8080/"
        },
        "id": "fu9Y5Pyw__ZS",
        "outputId": "69e18fe4-c6a9-4ae0-a63e-6bbd57e01295"
      },
      "outputs": [
        {
          "name": "stdout",
          "output_type": "stream",
          "text": [
            "count rainy to sunny =  2\n",
            "count rainy to normal =  6\n",
            "count rainy to rainy =  11\n",
            "count rainy to other =  19\n"
          ]
        }
      ],
      "source": [
        "rtos=0;\n",
        "for i in range(len(hidden)-1):\n",
        "  if hidden[i] == 'R':\n",
        "     if hidden[i+1] == 'S':\n",
        "      rtos=rtos+1 \n",
        "\n",
        "rton=0;\n",
        "for i in range(len(hidden)-1):\n",
        "  if hidden[i] == 'R':\n",
        "    if hidden[i+1] == 'N':\n",
        "      rton=rton+1\n",
        "\n",
        "rtor=0;\n",
        "for i in range(len(hidden)-1):\n",
        "  if hidden[i] == 'R':\n",
        "     if hidden[i] == hidden[i+1]:\n",
        "      rtor=rtor+1\n",
        "\n",
        "rtoother=0;\n",
        "for i in range(len(hidden)-1):\n",
        "  if hidden[i] == 'R':\n",
        "      rtoother=rtoother+1\n",
        "\n",
        "print(\"count rainy to sunny = \" ,rtos)\n",
        "print(\"count rainy to normal = \",rton)\n",
        "print(\"count rainy to rainy = \",rtor)\n",
        "print(\"count rainy to other = \",rtoother)"
      ]
    },
    {
      "cell_type": "code",
      "execution_count": 10,
      "metadata": {
        "colab": {
          "base_uri": "https://localhost:8080/"
        },
        "id": "jv0ke6D6ARGW",
        "outputId": "73f45261-5bd2-4657-acc9-f64dfb6cefaf"
      },
      "outputs": [
        {
          "name": "stdout",
          "output_type": "stream",
          "text": [
            "P(S|S)=  0.25\n",
            "P(R|S)=  0.4166666666666667\n",
            "P(N|S)=  0.3333333333333333\n"
          ]
        }
      ],
      "source": [
        "print(\"P(S|S)= \" ,stos/stoother)\n",
        "print(\"P(R|S)= \" ,stor/stoother)\n",
        "print(\"P(N|S)= \" ,ston/stoother)"
      ]
    },
    {
      "cell_type": "code",
      "execution_count": 11,
      "metadata": {
        "colab": {
          "base_uri": "https://localhost:8080/"
        },
        "id": "2qAdINzoAtxf",
        "outputId": "f5a31b89-50e0-4108-ebcb-062cd5f0f7ae"
      },
      "outputs": [
        {
          "name": "stdout",
          "output_type": "stream",
          "text": [
            "P(S|R)=  0.10526315789473684\n",
            "P(R|R)=  0.5789473684210527\n",
            "P(N|R)=  0.3157894736842105\n"
          ]
        }
      ],
      "source": [
        "print(\"P(S|R)= \" ,rtos/rtoother)\n",
        "print(\"P(R|R)= \" ,rtor/rtoother)\n",
        "print(\"P(N|R)= \" ,rton/rtoother)"
      ]
    },
    {
      "cell_type": "code",
      "execution_count": 12,
      "metadata": {
        "colab": {
          "base_uri": "https://localhost:8080/"
        },
        "id": "hmlcfTMkA7C4",
        "outputId": "6c151a0a-92e2-4757-e97f-c8401c507726"
      },
      "outputs": [
        {
          "name": "stdout",
          "output_type": "stream",
          "text": [
            "P(S|N)=  0.3888888888888889\n",
            "P(R|N)=  0.16666666666666666\n",
            "P(N|N)=  0.4444444444444444\n"
          ]
        }
      ],
      "source": [
        "print(\"P(S|N)= \" ,ntos/ntoother)\n",
        "print(\"P(R|N)= \" ,ntor/ntoother)\n",
        "print(\"P(N|N)= \" ,nton/ntoother)"
      ]
    },
    {
      "cell_type": "markdown",
      "metadata": {
        "id": "Ad_w6FLfYWE1"
      },
      "source": [
        "#### **Create Transition Matrix**"
      ]
    },
    {
      "cell_type": "code",
      "execution_count": 13,
      "metadata": {
        "id": "S_BCwlb_SRh3"
      },
      "outputs": [],
      "source": [
        "# Matrix\n",
        "Matrix = [[stos/stoother, stor/stoother, ston/stoother], [rtos/rtoother, rtor/rtoother, rton/rtoother], [ntos/ntoother, ntor/stoother, nton/stoother]]"
      ]
    },
    {
      "cell_type": "markdown",
      "metadata": {
        "id": "rN_H2xquUcu0"
      },
      "source": [
        "**Matrix as pandas**"
      ]
    },
    {
      "cell_type": "code",
      "execution_count": 14,
      "metadata": {
        "colab": {
          "base_uri": "https://localhost:8080/"
        },
        "id": "b9clQ8cZUZe8",
        "outputId": "1637a795-00b5-4c2c-a002-1ec4ea67c9b4"
      },
      "outputs": [
        {
          "data": {
            "text/html": [
              "<div>\n",
              "<style scoped>\n",
              "    .dataframe tbody tr th:only-of-type {\n",
              "        vertical-align: middle;\n",
              "    }\n",
              "\n",
              "    .dataframe tbody tr th {\n",
              "        vertical-align: top;\n",
              "    }\n",
              "\n",
              "    .dataframe thead th {\n",
              "        text-align: right;\n",
              "    }\n",
              "</style>\n",
              "<table border=\"1\" class=\"dataframe\">\n",
              "  <thead>\n",
              "    <tr style=\"text-align: right;\">\n",
              "      <th></th>\n",
              "      <th>Sunny</th>\n",
              "      <th>Rain</th>\n",
              "      <th>Normal</th>\n",
              "    </tr>\n",
              "  </thead>\n",
              "  <tbody>\n",
              "    <tr>\n",
              "      <th>Sunny</th>\n",
              "      <td>0.250000</td>\n",
              "      <td>0.416667</td>\n",
              "      <td>0.333333</td>\n",
              "    </tr>\n",
              "    <tr>\n",
              "      <th>Rain</th>\n",
              "      <td>0.105263</td>\n",
              "      <td>0.578947</td>\n",
              "      <td>0.315789</td>\n",
              "    </tr>\n",
              "    <tr>\n",
              "      <th>Normal</th>\n",
              "      <td>0.388889</td>\n",
              "      <td>0.250000</td>\n",
              "      <td>0.666667</td>\n",
              "    </tr>\n",
              "  </tbody>\n",
              "</table>\n",
              "</div>"
            ],
            "text/plain": [
              "           Sunny      Rain    Normal\n",
              "Sunny   0.250000  0.416667  0.333333\n",
              "Rain    0.105263  0.578947  0.315789\n",
              "Normal  0.388889  0.250000  0.666667"
            ]
          },
          "execution_count": 14,
          "metadata": {},
          "output_type": "execute_result"
        }
      ],
      "source": [
        "import pandas as pd\n",
        "df = pd.DataFrame(Matrix, columns=['Sunny','Rain','Normal'], index=['Sunny', 'Rain', 'Normal'])\n",
        "df"
      ]
    },
    {
      "cell_type": "markdown",
      "metadata": {
        "id": "76XGiOI4UV73"
      },
      "source": [
        "### Emission Probability"
      ]
    },
    {
      "cell_type": "code",
      "execution_count": 15,
      "metadata": {
        "id": "IbefG_XVohnf"
      },
      "outputs": [],
      "source": [
        "sums=0\n",
        "sumr=0\n",
        "sumn=0\n",
        "\n",
        "for i in range(len(observation)):\n",
        "  if hidden[i] == 'S':\n",
        "      sums=sums+1\n",
        "for i in range(len(observation)):\n",
        "  if hidden[i] == 'R':\n",
        "      sumr=sumr+1\n",
        "for i in range(len(observation)):\n",
        "  if hidden[i] == 'N':\n",
        "      sumn=sumn+1"
      ]
    },
    {
      "cell_type": "code",
      "execution_count": 16,
      "metadata": {
        "colab": {
          "base_uri": "https://localhost:8080/"
        },
        "id": "gl8OzfEOHmHJ",
        "outputId": "609df36a-1145-40d5-ade7-7f2f12d2a23e"
      },
      "outputs": [
        {
          "data": {
            "text/plain": [
              "19"
            ]
          },
          "execution_count": 16,
          "metadata": {},
          "output_type": "execute_result"
        }
      ],
      "source": [
        "sumr"
      ]
    },
    {
      "cell_type": "code",
      "execution_count": 17,
      "metadata": {
        "colab": {
          "base_uri": "https://localhost:8080/"
        },
        "id": "T6nE6BlvBoBB",
        "outputId": "433e46bf-088e-4c9b-f529-ed00407c6995"
      },
      "outputs": [
        {
          "name": "stdout",
          "output_type": "stream",
          "text": [
            "count happy to sunny =  5\n",
            "count happy to rainy =  12\n",
            "count happy to normal =  11\n"
          ]
        }
      ],
      "source": [
        "htos=0\n",
        "htor=0\n",
        "hton=0\n",
        "for i in range(len(observation)):\n",
        "  if observation[i] == 'H':\n",
        "     if hidden[i] == 'S':\n",
        "      htos=htos+1\n",
        "\n",
        "for i in range(len(observation)):\n",
        "  if observation[i] == 'H':\n",
        "     if hidden[i] == 'R':\n",
        "      htor=htor+1\n",
        "\n",
        "for i in range(len(observation)):\n",
        "  if observation[i] == 'H':\n",
        "     if hidden[i] == 'N':\n",
        "      hton=hton+1\n",
        "\n",
        "print(\"count happy to sunny = \" ,htos)\n",
        "print(\"count happy to rainy = \" ,htor)\n",
        "print(\"count happy to normal = \" ,hton)"
      ]
    },
    {
      "cell_type": "code",
      "execution_count": 19,
      "metadata": {
        "colab": {
          "base_uri": "https://localhost:8080/"
        },
        "id": "h4qC3FtADIQw",
        "outputId": "8e8768a5-d52b-4e4e-f05d-efea3f01c289"
      },
      "outputs": [
        {
          "name": "stdout",
          "output_type": "stream",
          "text": [
            "count grumpy to sunny =  7\n",
            "count grumpy to rainy =  7\n",
            "count grumpy to normal =  8\n"
          ]
        }
      ],
      "source": [
        "gtos=0\n",
        "gtor=0\n",
        "gton=0\n",
        "for i in range(len(observation)):\n",
        "  if observation[i] == 'G':\n",
        "     if hidden[i] == 'S':\n",
        "      gtos=gtos+1\n",
        "\n",
        "for i in range(len(observation)):\n",
        "  if observation[i] == 'G':\n",
        "     if hidden[i] == 'R':\n",
        "      gtor=gtor+1\n",
        "\n",
        "for i in range(len(observation)):\n",
        "  if observation[i] == 'G':\n",
        "     if hidden[i] == 'N':\n",
        "      gton=gton+1\n",
        "\n",
        "print(\"count grumpy to sunny = \" ,gtos)\n",
        "print(\"count grumpy to rainy = \" ,gtor)\n",
        "print(\"count grumpy to normal = \" ,gton)"
      ]
    },
    {
      "cell_type": "code",
      "execution_count": 20,
      "metadata": {
        "colab": {
          "base_uri": "https://localhost:8080/"
        },
        "id": "PxjOMZQqDjnC",
        "outputId": "ad3968f7-5c43-4ea2-ed0a-2acea96ea0ad"
      },
      "outputs": [
        {
          "name": "stdout",
          "output_type": "stream",
          "text": [
            "P(H|R)=  0.631578947368421\n",
            "P(G|R)=  0.3684210526315789\n"
          ]
        }
      ],
      "source": [
        "print(\"P(H|R)= \" ,htor/sumr)\n",
        "print(\"P(G|R)= \" ,gtor/sumr)"
      ]
    },
    {
      "cell_type": "code",
      "execution_count": 21,
      "metadata": {
        "colab": {
          "base_uri": "https://localhost:8080/"
        },
        "id": "PQUztWMnEH-d",
        "outputId": "2127c214-a93a-4939-cdac-474c13615fb1"
      },
      "outputs": [
        {
          "name": "stdout",
          "output_type": "stream",
          "text": [
            "P(H|S)=  0.4166666666666667\n",
            "P(G|S)=  0.5833333333333334\n"
          ]
        }
      ],
      "source": [
        "print(\"P(H|S)= \" ,htos/sums)\n",
        "print(\"P(G|S)= \" ,gtos/sums)"
      ]
    },
    {
      "cell_type": "code",
      "execution_count": 22,
      "metadata": {
        "colab": {
          "base_uri": "https://localhost:8080/"
        },
        "id": "pSzHfD6BEP48",
        "outputId": "e4bbb068-2afc-4430-e9f5-66c57c8bef55"
      },
      "outputs": [
        {
          "name": "stdout",
          "output_type": "stream",
          "text": [
            "P(G|N)=  0.42105263157894735\n",
            "P(H|N)=  0.5789473684210527\n"
          ]
        }
      ],
      "source": [
        "print(\"P(G|N)= \" ,gton/sumn)\n",
        "print(\"P(H|N)= \" ,hton/sumn)"
      ]
    },
    {
      "cell_type": "markdown",
      "metadata": {
        "id": "XdvK2vuBYl3L"
      },
      "source": [
        "#### **Create Emission Matrix**"
      ]
    },
    {
      "cell_type": "code",
      "execution_count": 23,
      "metadata": {
        "id": "vTLmNs7HYl3M"
      },
      "outputs": [],
      "source": [
        "# Matrix\n",
        "Ematrix = [[htos/stoother, gtos/stoother], [htor/rtoother, gtor/rtoother], [hton/ntoother, gton/ntoother]]"
      ]
    },
    {
      "cell_type": "markdown",
      "metadata": {
        "id": "L-57GNbBYl3M"
      },
      "source": [
        "**Emission as pandas**"
      ]
    },
    {
      "cell_type": "code",
      "execution_count": 24,
      "metadata": {
        "colab": {
          "base_uri": "https://localhost:8080/",
          "height": 142
        },
        "id": "_FeBs_BYYl3M",
        "outputId": "eb43ff41-b6cd-47c8-9caa-81b22055168b"
      },
      "outputs": [
        {
          "data": {
            "text/html": [
              "<div>\n",
              "<style scoped>\n",
              "    .dataframe tbody tr th:only-of-type {\n",
              "        vertical-align: middle;\n",
              "    }\n",
              "\n",
              "    .dataframe tbody tr th {\n",
              "        vertical-align: top;\n",
              "    }\n",
              "\n",
              "    .dataframe thead th {\n",
              "        text-align: right;\n",
              "    }\n",
              "</style>\n",
              "<table border=\"1\" class=\"dataframe\">\n",
              "  <thead>\n",
              "    <tr style=\"text-align: right;\">\n",
              "      <th></th>\n",
              "      <th>Happy</th>\n",
              "      <th>Grumpy</th>\n",
              "    </tr>\n",
              "  </thead>\n",
              "  <tbody>\n",
              "    <tr>\n",
              "      <th>Sunny</th>\n",
              "      <td>0.416667</td>\n",
              "      <td>0.583333</td>\n",
              "    </tr>\n",
              "    <tr>\n",
              "      <th>Rain</th>\n",
              "      <td>0.631579</td>\n",
              "      <td>0.368421</td>\n",
              "    </tr>\n",
              "    <tr>\n",
              "      <th>Normal</th>\n",
              "      <td>0.611111</td>\n",
              "      <td>0.444444</td>\n",
              "    </tr>\n",
              "  </tbody>\n",
              "</table>\n",
              "</div>"
            ],
            "text/plain": [
              "           Happy    Grumpy\n",
              "Sunny   0.416667  0.583333\n",
              "Rain    0.631579  0.368421\n",
              "Normal  0.611111  0.444444"
            ]
          },
          "execution_count": 24,
          "metadata": {},
          "output_type": "execute_result"
        }
      ],
      "source": [
        "import pandas as pd\n",
        "df = pd.DataFrame(Ematrix, columns=['Happy','Grumpy'], index=['Sunny', 'Rain', 'Normal'])\n",
        "df"
      ]
    },
    {
      "cell_type": "markdown",
      "metadata": {
        "id": "cpIu9ZryeHdd"
      },
      "source": [
        "# Bayes theorem"
      ]
    },
    {
      "cell_type": "code",
      "execution_count": 25,
      "metadata": {
        "colab": {
          "base_uri": "https://localhost:8080/"
        },
        "id": "NYV2FE6leaAS",
        "outputId": "6bf90afc-4fb0-497c-8da6-a4b9564de182"
      },
      "outputs": [
        {
          "name": "stdout",
          "output_type": "stream",
          "text": [
            "P(S) =  0.24\n",
            "P(R) =  0.38\n",
            "P(N) =  0.38\n"
          ]
        }
      ],
      "source": [
        "c_s = hidden.count('S')\n",
        "c_r = hidden.count('R')\n",
        "c_n = hidden.count('N')\n",
        "allcount1 = c_s + c_r + c_n\n",
        "\n",
        "print(\"P(S) = \",c_s/allcount1)\n",
        "print(\"P(R) = \",c_r/allcount1)\n",
        "print(\"P(N) = \",c_n/allcount1)"
      ]
    },
    {
      "cell_type": "code",
      "execution_count": 26,
      "metadata": {
        "colab": {
          "base_uri": "https://localhost:8080/"
        },
        "id": "aDx9AMYWecHD",
        "outputId": "bdd3907f-c4bc-47e1-e792-5a3f63034642"
      },
      "outputs": [
        {
          "name": "stdout",
          "output_type": "stream",
          "text": [
            "P(H) =  0.56\n",
            "P(G) =  0.44\n"
          ]
        }
      ],
      "source": [
        "c_h = observation.count('H')\n",
        "c_g = observation.count('G')\n",
        "allcount2 = c_s + c_r + c_n\n",
        "\n",
        "print(\"P(H) = \",c_h/allcount2)\n",
        "print(\"P(G) = \",c_g/allcount2)"
      ]
    },
    {
      "cell_type": "code",
      "execution_count": 27,
      "metadata": {
        "colab": {
          "base_uri": "https://localhost:8080/"
        },
        "id": "oNjQ8hbceepL",
        "outputId": "21fc047a-f92f-4fa0-b8ee-1f9a690e39cd"
      },
      "outputs": [
        {
          "name": "stdout",
          "output_type": "stream",
          "text": [
            "P(R|H) =  0.42857142857142855\n",
            "P(N|H) =  0.39285714285714285\n",
            "P(S|H) =  0.17857142857142858\n",
            "Prob of given H =  1.0\n",
            "P(R|G) =  0.3181818181818182\n",
            "P(N|G) =  0.36363636363636365\n",
            "P(S|G) =  0.3181818181818182\n",
            "Prob of given H =  1.0\n"
          ]
        }
      ],
      "source": [
        "print(\"P(R|H) = \",(htor / c_h))\n",
        "print(\"P(N|H) = \",(hton / c_h))\n",
        "print(\"P(S|H) = \",(htos / c_h))\n",
        "print(\"Prob of given H = \",(htor / c_h)+(hton / c_h)+(htos / c_h))\n",
        "\n",
        "print(\"P(R|G) = \",(gtor / c_g))\n",
        "print(\"P(N|G) = \",(gton / c_g))\n",
        "print(\"P(S|G) = \",(gtos / c_g))\n",
        "print(\"Prob of given H = \",(gtor / c_g)+(gton / c_g)+(gtos / c_g))"
      ]
    }
  ],
  "metadata": {
    "colab": {
      "collapsed_sections": [
        "l94xhVJc0_Nl",
        "M37kbnbG00u-"
      ],
      "name": "Quiz7 Hidden Markov Model (HMM).ipynb",
      "provenance": []
    },
    "kernelspec": {
      "display_name": "Python 3",
      "name": "python3"
    },
    "language_info": {
      "codemirror_mode": {
        "name": "ipython",
        "version": 3
      },
      "file_extension": ".py",
      "mimetype": "text/x-python",
      "name": "python",
      "nbconvert_exporter": "python",
      "pygments_lexer": "ipython3",
      "version": "3.10.2"
    }
  },
  "nbformat": 4,
  "nbformat_minor": 0
}
